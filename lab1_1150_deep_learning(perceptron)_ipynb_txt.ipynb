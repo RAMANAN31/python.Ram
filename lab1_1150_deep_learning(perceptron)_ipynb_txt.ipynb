
{
  "cells": [
    {
      "cell_type": "markdown",
      "metadata": {
        "id": "view-in-github",
        "colab_type": "text"
      },
      "source": [
        "<a href=\"https://colab.research.google.com/github/RAMANAN31/python.Ram/blob/main/lab1_1150_deep_learning(perceptron)_ipynb_txt.ipynb\" target=\"_parent\"><img src=\"https://colab.research.google.com/assets/colab-badge.svg\" alt=\"Open In Colab\"/></a>"
      ]
    },
    {
      "cell_type": "code",
      "execution_count": null,
      "id": "865429bf",
      "metadata": {
        "id": "865429bf"
      },
      "outputs": [],
      "source": [
        "import pandas as pd\n",
        "import numpy as nu\n"
      ]
    },
    {
      "cell_type": "code",
      "execution_count": null,
      "id": "19059fab",
      "metadata": {
        "id": "19059fab",
        "outputId": "93f00a6a-0586-41ab-e473-db93029cca9a"
      },
      "outputs": [
        {
          "name": "stderr",
          "output_type": "stream",
          "text": [
            "Matplotlib is building the font cache; this may take a moment.\n"
          ]
        }
      ],
      "source": [
        "import matplotlib.pyplot as plt\n",
        "import seaborn as sns"
      ]
    },
    {
      "cell_type": "code",
      "execution_count": null,
      "id": "bac281f4",
      "metadata": {
        "id": "bac281f4"
      },
      "outputs": [],
      "source": [
        "from sklearn.datasets import load_iris"
      ]
    },
    {
      "cell_type": "code",
      "execution_count": null,
      "id": "dd50b2a1",
      "metadata": {
        "id": "dd50b2a1"
      },
      "outputs": [],
      "source": [
        "from sklearn.model_selection import train_test_split\n",
        "from sklearn.preprocessing import StandardScaler\n",
        "from sklearn.linear_model import Perceptron\n",
        "from sklearn.metrics import accuracy_score,confusion_matrix,classification_report"
      ]
    },
    {
      "cell_type": "code",
      "execution_count": null,
      "id": "4482e72d",
      "metadata": {
        "id": "4482e72d"
      },
      "outputs": [],
      "source": [
        "iris=load_iris()\n",
        "X=iris.data\n",
        "y=iris.target"
      ]
    },
    {
      "cell_type": "code",
      "execution_count": null,
      "id": "e11a8a88",
      "metadata": {
        "id": "e11a8a88"
      },
      "outputs": [],
      "source": [
        "#to data frame\n",
        "data=pd.DataFrame(X,columns=iris.feature_names)\n",
        "data['target']=y"
      ]
    },
    {
      "cell_type": "code",
      "execution_count": null,
      "id": "8104fee3",
      "metadata": {
        "id": "8104fee3"
      },
      "outputs": [],
      "source": [
        "#exclude the third category\n",
        "data=data[data['target']!=2]"
      ]
    },
    {
      "cell_type": "code",
      "execution_count": null,
      "id": "c196a967",
      "metadata": {
        "id": "c196a967",
        "outputId": "30dc62b1-7084-4bd5-f319-b0750175202e"
      },
      "outputs": [
        {
          "name": "stdout",
          "output_type": "stream",
          "text": [
            "   sepal length (cm)  sepal width (cm)  petal length (cm)  petal width (cm)  \\\n",
            "0                5.1               3.5                1.4               0.2   \n",
            "1                4.9               3.0                1.4               0.2   \n",
            "2                4.7               3.2                1.3               0.2   \n",
            "3                4.6               3.1                1.5               0.2   \n",
            "4                5.0               3.6                1.4               0.2   \n",
            "\n",
            "   target  \n",
            "0       0  \n",
            "1       0  \n",
            "2       0  \n",
            "3       0  \n",
            "4       0  \n"
          ]
        }
      ],
      "source": [
        "print(data.head())"
      ]
    },
    {
      "cell_type": "code",
      "execution_count": null,
      "id": "61d1dd8c",
      "metadata": {
        "id": "61d1dd8c",
        "outputId": "a1ae2b7b-c1bd-4dbf-c008-f7a23d25109f"
      },
      "outputs": [
        {
          "data": {
            "text/plain": [
              "Int64Index([ 0,  1,  2,  3,  4,  5,  6,  7,  8,  9, 10, 11, 12, 13, 14, 15, 16,\n",
              "            17, 18, 19, 20, 21, 22, 23, 24, 25, 26, 27, 28, 29, 30, 31, 32, 33,\n",
              "            34, 35, 36, 37, 38, 39, 40, 41, 42, 43, 44, 45, 46, 47, 48, 49, 50,\n",
              "            51, 52, 53, 54, 55, 56, 57, 58, 59, 60, 61, 62, 63, 64, 65, 66, 67,\n",
              "            68, 69, 70, 71, 72, 73, 74, 75, 76, 77, 78, 79, 80, 81, 82, 83, 84,\n",
              "            85, 86, 87, 88, 89, 90, 91, 92, 93, 94, 95, 96, 97, 98, 99],\n",
              "           dtype='int64')"
            ]
          },
          "execution_count": 27,
          "metadata": {},
          "output_type": "execute_result"
        }
      ],
      "source": [
        "data.index"
      ]
    },
    {
      "cell_type": "code",
      "execution_count": null,
      "id": "3c221aec",
      "metadata": {
        "id": "3c221aec",
        "outputId": "1bd76867-27ee-4a8b-df7a-4de0f80b1383"
      },
      "outputs": [
        {
          "data": {
            "text/plain": [
              "sepal length (cm)    False\n",
              "sepal width (cm)     False\n",
              "petal length (cm)    False\n",
              "petal width (cm)     False\n",
              "target               False\n",
              "dtype: bool"
            ]
          },
          "execution_count": 30,
          "metadata": {},
          "output_type": "execute_result"
        }
      ],
      "source": [
        "data.isnull().any()"
      ]
    },
    {
      "cell_type": "code",
      "execution_count": null,
      "id": "d6d6bdb6",
      "metadata": {
        "id": "d6d6bdb6",
        "outputId": "db15bd4d-ee85-4306-a01b-492b9f71dd25"
      },
      "outputs": [
        {
          "data": {
            "text/html": [
              "<div>\n",
              "<style scoped>\n",
              "    .dataframe tbody tr th:only-of-type {\n",
              "        vertical-align: middle;\n",
              "    }\n",
              "\n",
              "    .dataframe tbody tr th {\n",
              "        vertical-align: top;\n",
              "    }\n",
              "\n",
              "    .dataframe thead th {\n",
              "        text-align: right;\n",
              "    }\n",
              "</style>\n",
              "<table border=\"1\" class=\"dataframe\">\n",
              "  <thead>\n",
              "    <tr style=\"text-align: right;\">\n",
              "      <th></th>\n",
              "      <th>sepal length (cm)</th>\n",
              "      <th>sepal width (cm)</th>\n",
              "      <th>petal length (cm)</th>\n",
              "      <th>petal width (cm)</th>\n",
              "      <th>target</th>\n",
              "    </tr>\n",
              "  </thead>\n",
              "  <tbody>\n",
              "    <tr>\n",
              "      <th>count</th>\n",
              "      <td>100.000000</td>\n",
              "      <td>100.000000</td>\n",
              "      <td>100.000000</td>\n",
              "      <td>100.000000</td>\n",
              "      <td>100.000000</td>\n",
              "    </tr>\n",
              "    <tr>\n",
              "      <th>mean</th>\n",
              "      <td>5.471000</td>\n",
              "      <td>3.099000</td>\n",
              "      <td>2.861000</td>\n",
              "      <td>0.786000</td>\n",
              "      <td>0.500000</td>\n",
              "    </tr>\n",
              "    <tr>\n",
              "      <th>std</th>\n",
              "      <td>0.641698</td>\n",
              "      <td>0.478739</td>\n",
              "      <td>1.449549</td>\n",
              "      <td>0.565153</td>\n",
              "      <td>0.502519</td>\n",
              "    </tr>\n",
              "    <tr>\n",
              "      <th>min</th>\n",
              "      <td>4.300000</td>\n",
              "      <td>2.000000</td>\n",
              "      <td>1.000000</td>\n",
              "      <td>0.100000</td>\n",
              "      <td>0.000000</td>\n",
              "    </tr>\n",
              "    <tr>\n",
              "      <th>25%</th>\n",
              "      <td>5.000000</td>\n",
              "      <td>2.800000</td>\n",
              "      <td>1.500000</td>\n",
              "      <td>0.200000</td>\n",
              "      <td>0.000000</td>\n",
              "    </tr>\n",
              "    <tr>\n",
              "      <th>50%</th>\n",
              "      <td>5.400000</td>\n",
              "      <td>3.050000</td>\n",
              "      <td>2.450000</td>\n",
              "      <td>0.800000</td>\n",
              "      <td>0.500000</td>\n",
              "    </tr>\n",
              "    <tr>\n",
              "      <th>75%</th>\n",
              "      <td>5.900000</td>\n",
              "      <td>3.400000</td>\n",
              "      <td>4.325000</td>\n",
              "      <td>1.300000</td>\n",
              "      <td>1.000000</td>\n",
              "    </tr>\n",
              "    <tr>\n",
              "      <th>max</th>\n",
              "      <td>7.000000</td>\n",
              "      <td>4.400000</td>\n",
              "      <td>5.100000</td>\n",
              "      <td>1.800000</td>\n",
              "      <td>1.000000</td>\n",
              "    </tr>\n",
              "  </tbody>\n",
              "</table>\n",
              "</div>"
            ],
            "text/plain": [
              "       sepal length (cm)  sepal width (cm)  petal length (cm)  \\\n",
              "count         100.000000        100.000000         100.000000   \n",
              "mean            5.471000          3.099000           2.861000   \n",
              "std             0.641698          0.478739           1.449549   \n",
              "min             4.300000          2.000000           1.000000   \n",
              "25%             5.000000          2.800000           1.500000   \n",
              "50%             5.400000          3.050000           2.450000   \n",
              "75%             5.900000          3.400000           4.325000   \n",
              "max             7.000000          4.400000           5.100000   \n",
              "\n",
              "       petal width (cm)      target  \n",
              "count        100.000000  100.000000  \n",
              "mean           0.786000    0.500000  \n",
              "std            0.565153    0.502519  \n",
              "min            0.100000    0.000000  \n",
              "25%            0.200000    0.000000  \n",
              "50%            0.800000    0.500000  \n",
              "75%            1.300000    1.000000  \n",
              "max            1.800000    1.000000  "
            ]
          },
          "execution_count": 31,
          "metadata": {},
          "output_type": "execute_result"
        }
      ],
      "source": [
        "data.describe()"
      ]
    },
    {
      "cell_type": "code",
      "execution_count": null,
      "id": "78bdb0c6",
      "metadata": {
        "id": "78bdb0c6",
        "outputId": "38babe48-cd94-419c-95b3-cd2e0accbaa3"
      },
      "outputs": [
        {
          "data": {
            "text/plain": [
              "sepal length (cm)  sepal width (cm)  petal length (cm)  petal width (cm)  target\n",
              "4.3                3.0               1.1                0.1               0         1\n",
              "5.7                2.6               3.5                1.0               1         1\n",
              "5.8                4.0               1.2                0.2               0         1\n",
              "                   2.7               4.1                1.0               1         1\n",
              "                                     3.9                1.2               1         1\n",
              "                                                                                   ..\n",
              "5.0                3.6               1.4                0.2               0         1\n",
              "                   3.5               1.6                0.6               0         1\n",
              "                                     1.3                0.3               0         1\n",
              "                   3.4               1.6                0.4               0         1\n",
              "7.0                3.2               4.7                1.4               1         1\n",
              "Length: 100, dtype: int64"
            ]
          },
          "execution_count": 34,
          "metadata": {},
          "output_type": "execute_result"
        }
      ],
      "source": [
        "data.value_counts()"
      ]
    },
    {
      "cell_type": "code",
      "execution_count": null,
      "id": "535236b8",
      "metadata": {
        "id": "535236b8",
        "outputId": "c3f4d93a-1bd1-4a5c-97d9-ce86f4a2db2d"
      },
      "outputs": [
        {
          "name": "stdout",
          "output_type": "stream",
          "text": [
            "(100, 4)\n",
            "(100,)\n"
          ]
        }
      ],
      "source": [
        "#data preprocessing\n",
        "\n",
        "X = data.drop(['target'], axis=1)\n",
        "y = data['target']\n",
        "# print(X.head())\n",
        "print(X.shape)\n",
        "# print(y.head())\n",
        "print(y.shape)"
      ]
    },
    {
      "cell_type": "code",
      "execution_count": null,
      "id": "b97266a4",
      "metadata": {
        "id": "b97266a4"
      },
      "outputs": [],
      "source": [
        "# Step 2: Split the dataset into training and testing sets\n",
        "X_train, X_test, y_train, y_test = train_test_split(X, y, test_size=0.3, random_state=42)\n"
      ]
    },
    {
      "cell_type": "code",
      "execution_count": null,
      "id": "8fd02ea5",
      "metadata": {
        "id": "8fd02ea5"
      },
      "outputs": [],
      "source": [
        "\n",
        "# Step 3: Standardize the data (important for Perceptron)\n",
        "scaler = StandardScaler()\n",
        "X_train = scaler.fit_transform(X_train)\n",
        "X_test = scaler.transform(X_test)\n"
      ]
    },
    {
      "cell_type": "code",
      "execution_count": null,
      "id": "c90e32e4",
      "metadata": {
        "id": "c90e32e4",
        "outputId": "b86fc719-d8e9-45e3-f5d8-473ed46019cc"
      },
      "outputs": [
        {
          "data": {
            "text/html": [
              "<style>#sk-container-id-1 {color: black;background-color: white;}#sk-container-id-1 pre{padding: 0;}#sk-container-id-1 div.sk-toggleable {background-color: white;}#sk-container-id-1 label.sk-toggleable__label {cursor: pointer;display: block;width: 100%;margin-bottom: 0;padding: 0.3em;box-sizing: border-box;text-align: center;}#sk-container-id-1 label.sk-toggleable__label-arrow:before {content: \"▸\";float: left;margin-right: 0.25em;color: #696969;}#sk-container-id-1 label.sk-toggleable__label-arrow:hover:before {color: black;}#sk-container-id-1 div.sk-estimator:hover label.sk-toggleable__label-arrow:before {color: black;}#sk-container-id-1 div.sk-toggleable__content {max-height: 0;max-width: 0;overflow: hidden;text-align: left;background-color: #f0f8ff;}#sk-container-id-1 div.sk-toggleable__content pre {margin: 0.2em;color: black;border-radius: 0.25em;background-color: #f0f8ff;}#sk-container-id-1 input.sk-toggleable__control:checked~div.sk-toggleable__content {max-height: 200px;max-width: 100%;overflow: auto;}#sk-container-id-1 input.sk-toggleable__control:checked~label.sk-toggleable__label-arrow:before {content: \"▾\";}#sk-container-id-1 div.sk-estimator input.sk-toggleable__control:checked~label.sk-toggleable__label {background-color: #d4ebff;}#sk-container-id-1 div.sk-label input.sk-toggleable__control:checked~label.sk-toggleable__label {background-color: #d4ebff;}#sk-container-id-1 input.sk-hidden--visually {border: 0;clip: rect(1px 1px 1px 1px);clip: rect(1px, 1px, 1px, 1px);height: 1px;margin: -1px;overflow: hidden;padding: 0;position: absolute;width: 1px;}#sk-container-id-1 div.sk-estimator {font-family: monospace;background-color: #f0f8ff;border: 1px dotted black;border-radius: 0.25em;box-sizing: border-box;margin-bottom: 0.5em;}#sk-container-id-1 div.sk-estimator:hover {background-color: #d4ebff;}#sk-container-id-1 div.sk-parallel-item::after {content: \"\";width: 100%;border-bottom: 1px solid gray;flex-grow: 1;}#sk-container-id-1 div.sk-label:hover label.sk-toggleable__label {background-color: #d4ebff;}#sk-container-id-1 div.sk-serial::before {content: \"\";position: absolute;border-left: 1px solid gray;box-sizing: border-box;top: 0;bottom: 0;left: 50%;z-index: 0;}#sk-container-id-1 div.sk-serial {display: flex;flex-direction: column;align-items: center;background-color: white;padding-right: 0.2em;padding-left: 0.2em;position: relative;}#sk-container-id-1 div.sk-item {position: relative;z-index: 1;}#sk-container-id-1 div.sk-parallel {display: flex;align-items: stretch;justify-content: center;background-color: white;position: relative;}#sk-container-id-1 div.sk-item::before, #sk-container-id-1 div.sk-parallel-item::before {content: \"\";position: absolute;border-left: 1px solid gray;box-sizing: border-box;top: 0;bottom: 0;left: 50%;z-index: -1;}#sk-container-id-1 div.sk-parallel-item {display: flex;flex-direction: column;z-index: 1;position: relative;background-color: white;}#sk-container-id-1 div.sk-parallel-item:first-child::after {align-self: flex-end;width: 50%;}#sk-container-id-1 div.sk-parallel-item:last-child::after {align-self: flex-start;width: 50%;}#sk-container-id-1 div.sk-parallel-item:only-child::after {width: 0;}#sk-container-id-1 div.sk-dashed-wrapped {border: 1px dashed gray;margin: 0 0.4em 0.5em 0.4em;box-sizing: border-box;padding-bottom: 0.4em;background-color: white;}#sk-container-id-1 div.sk-label label {font-family: monospace;font-weight: bold;display: inline-block;line-height: 1.2em;}#sk-container-id-1 div.sk-label-container {text-align: center;}#sk-container-id-1 div.sk-container {/* jupyter's `normalize.less` sets `[hidden] { display: none; }` but bootstrap.min.css set `[hidden] { display: none !important; }` so we also need the `!important` here to be able to override the default hidden behavior on the sphinx rendered scikit-learn.org. See: https://github.com/scikit-learn/scikit-learn/issues/21755 */display: inline-block !important;position: relative;}#sk-container-id-1 div.sk-text-repr-fallback {display: none;}</style><div id=\"sk-container-id-1\" class=\"sk-top-container\"><div class=\"sk-text-repr-fallback\"><pre>Perceptron(eta0=0.1, random_state=42)</pre><b>In a Jupyter environment, please rerun this cell to show the HTML representation or trust the notebook. <br />On GitHub, the HTML representation is unable to render, please try loading this page with nbviewer.org.</b></div><div class=\"sk-container\" hidden><div class=\"sk-item\"><div class=\"sk-estimator sk-toggleable\"><input class=\"sk-toggleable__control sk-hidden--visually\" id=\"sk-estimator-id-1\" type=\"checkbox\" checked><label for=\"sk-estimator-id-1\" class=\"sk-toggleable__label sk-toggleable__label-arrow\">Perceptron</label><div class=\"sk-toggleable__content\"><pre>Perceptron(eta0=0.1, random_state=42)</pre></div></div></div></div></div>"
            ],
            "text/plain": [
              "Perceptron(eta0=0.1, random_state=42)"
            ]
          },
          "execution_count": 39,
          "metadata": {},
          "output_type": "execute_result"
        }
      ],
      "source": [
        "# Step 4: Create and train the Perceptron model\n",
        "perceptron = Perceptron(max_iter=1000, eta0=0.1, random_state=42)\n",
        "perceptron.fit(X_train, y_train)\n"
      ]
    },
    {
      "cell_type": "code",
      "execution_count": null,
      "id": "6aca8dbc",
      "metadata": {
        "id": "6aca8dbc"
      },
      "outputs": [],
      "source": [
        "# Step 5: Make predictions on the test set\n",
        "y_pred = perceptron.predict(X_test)\n",
        "\n"
      ]
    },
    {
      "cell_type": "code",
      "execution_count": null,
      "id": "e73f91b1",
      "metadata": {
        "id": "e73f91b1"
      },
      "outputs": [],
      "source": [
        "# Step 6: Evaluate the model\n",
        "accuracy = accuracy_score(y_test, y_pred)\n",
        "conf_matrix = confusion_matrix(y_test, y_pred)\n",
        "classif_rep=classification_report(y_test,y_pred)"
      ]
    },
    {
      "cell_type": "code",
      "execution_count": null,
      "id": "174e4c58",
      "metadata": {
        "scrolled": true,
        "id": "174e4c58",
        "outputId": "bf9abab5-d7b6-4b51-bf36-fc08dc933a6d"
      },
      "outputs": [
        {
          "name": "stdout",
          "output_type": "stream",
          "text": [
            "Accuracy of the Perceptron model: 1.0000\n",
            "Confusion Matrix:\n",
            "[[17  0]\n",
            " [ 0 13]]\n",
            "              precision    recall  f1-score   support\n",
            "\n",
            "           0       1.00      1.00      1.00        17\n",
            "           1       1.00      1.00      1.00        13\n",
            "\n",
            "    accuracy                           1.00        30\n",
            "   macro avg       1.00      1.00      1.00        30\n",
            "weighted avg       1.00      1.00      1.00        30\n",
            "\n"
          ]
        }
      ],
      "source": [
        "print(f\"Accuracy of the Perceptron model: {accuracy:.4f}\")\n",
        "print(\"Confusion Matrix:\")\n",
        "print(conf_matrix)\n",
        "print(classif_rep)"
      ]
    },
    {
      "cell_type": "code",
      "execution_count": null,
      "id": "c6a4abb2",
      "metadata": {
        "id": "c6a4abb2"
      },
      "outputs": [],
      "source": [
        "# Step 7: (Optional) Visualize the decision boundaries if you use only two features\n",
        "# For simplicity, we will use only the first two features (sepal length and sepal width)\n",
        "X_train_2D = X_train[:, :2]\n",
        "X_test_2D = X_test[:, :2]\n"
      ]
    },
    {
      "cell_type": "code",
      "execution_count": null,
      "id": "8168f2a4",
      "metadata": {
        "id": "8168f2a4"
      },
      "outputs": [],
      "source": [
        "'''# Recreate the Perceptron model on only two features\n",
        "perceptron_2D = Perceptron(max_iter=1000, eta0=0.1, random_state=42)\n",
        "perceptron_2D.fit(X_train_2D, y_train)\n",
        "\n",
        "# Create a meshgrid for plotting decision boundaries\n",
        "h = .02  # Step size in the mesh\n",
        "x_min, x_max = X_train_2D[:, 0].min() - 1, X_train_2D[:, 0].max() + 1\n",
        "y_min, y_max = X_train_2D[:, 1].min() - 1, X_train_2D[:, 1].max() + 1\n",
        "xx, yy = np.meshgrid(np.arange(x_min, x_max, h), np.arange(y_min, y_max, h))\n",
        "\n",
        "# Plot the decision boundary\n",
        "Z = perceptron_2D.predict(np.c_[xx.ravel(), yy.ravel()])\n",
        "Z = Z.reshape(xx.shape)\n",
        "\n",
        "\n",
        "# Plotting the data points\n",
        "plt.contourf(xx, yy, Z, alpha=0.8)\n",
        "sns.scatterplot(x=X_train_2D[:, 0], y=X_train_2D[:, 1], hue=y_train, palette=\"Set1\", edgecolor='k', s=100)\n",
        "plt.title(\"Perceptron Decision Boundary (using Sepal Length and Sepal Width)\")\n",
        "plt.xlabel(\"Sepal Length\")\n",
        "plt.ylabel(\"Sepal Width\")\n",
        "plt.show()\n",
        "'''"
      ]
    },
    {
      "cell_type": "code",
      "execution_count": null,
      "id": "163a80cf",
      "metadata": {
        "id": "163a80cf",
        "outputId": "f0016c0d-a19b-45e1-e1b3-e6f4dc9c1689"
      },
      "outputs": [
        {
          "data": {
            "image/png": "[encoded data removed]",
            "text/plain": [
              "<Figure size 500x500 with 2 Axes>"
            ]
          },
          "metadata": {},
          "output_type": "display_data"
        }
      ],
      "source": [
        "plt.figure(figsize=(5,5))\n",
        "sns.heatmap(conf_matrix,annot=True,fmt='d',cmap='Blues',xticklabels=iris.target_names[:2],\n",
        "           yticklabels=iris.target_names[:2])\n",
        "plt.xlabel('Predicted')\n",
        "plt.ylabel('Actual')\n",
        "plt.show()"
      ]
    },
    {
      "cell_type": "code",
      "execution_count": null,
      "id": "41fd1105",
      "metadata": {
        "id": "41fd1105"
      },
      "outputs": [],
      "source": [
        "#Explanation of Key Metrics:"
      ]
    },
    {
      "cell_type": "code",
      "execution_count": null,
      "id": "95ba0abe",
      "metadata": {
        "id": "95ba0abe"
      },
      "outputs": [],
      "source": [
        "Accuracy: The models accuracy of 1.00 means that it correctly predicted all 30 samples in the dataset (both classes)."
      ]
    },
    {
      "cell_type": "code",
      "execution_count": null,
      "id": "4c4af5a3",
      "metadata": {
        "id": "4c4af5a3"
      },
      "outputs": [],
      "source": [
        "Confusion Matrix: The confusion matrix provides a more detailed view of how the model performed. In your case, it shows no misclassifications, with 17 correct predictions for Class 0 and 13 for Class 1.\n",
        "\n",
        "Precision: Precision is 1.00 for both classes, meaning there were no false positives (incorrectly classifying an instance as a positive when it was actually negative).\n",
        "\n"
      ]
    },
    {
      "cell_type": "code",
      "execution_count": null,
      "id": "41df454e",
      "metadata": {
        "id": "41df454e"
      },
      "outputs": [],
      "source": [
        "Recall: Recall is also 1.00 for both classes, meaning the model correctly identified all positive instances without missing any.\n",
        "\n",
        "F1-Score: The F1-score, which combines precision and recall into a single metric, is also 1.00 for both classes,\n",
        "            indicating that the model achieved perfect performance for both.\n"
      ]
    }
  ],
  "metadata": {
    "kernelspec": {
      "display_name": "Python 3 (ipykernel)",
      "language": "python",
      "name": "python3"
    },
    "language_info": {
      "codemirror_mode": {
        "name": "ipython",
        "version": 3
      },
      "file_extension": ".py",
      "mimetype": "text/x-python",
      "name": "python",
      "nbconvert_exporter": "python",
      "pygments_lexer": "ipython3",
      "version": "3.10.12"
    },
    "colab": {
      "provenance": [],
      "include_colab_link": true
    }
  },
  "nbformat": 4,
  "nbformat_minor": 5
}
